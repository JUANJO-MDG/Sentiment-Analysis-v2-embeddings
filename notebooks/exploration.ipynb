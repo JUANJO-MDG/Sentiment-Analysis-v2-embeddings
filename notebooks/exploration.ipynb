{
 "cells": [
  {
   "cell_type": "code",
   "execution_count": null,
   "id": "8c0938e3",
   "metadata": {},
   "outputs": [],
   "source": [
    "import pandas as pd\n",
    "\n",
    "from sklearn.model_selection import train_test_split"
   ]
  },
  {
   "cell_type": "code",
   "execution_count": 15,
   "id": "158a0e1f",
   "metadata": {},
   "outputs": [
    {
     "data": {
      "text/html": [
       "<div>\n",
       "<style scoped>\n",
       "    .dataframe tbody tr th:only-of-type {\n",
       "        vertical-align: middle;\n",
       "    }\n",
       "\n",
       "    .dataframe tbody tr th {\n",
       "        vertical-align: top;\n",
       "    }\n",
       "\n",
       "    .dataframe thead th {\n",
       "        text-align: right;\n",
       "    }\n",
       "</style>\n",
       "<table border=\"1\" class=\"dataframe\">\n",
       "  <thead>\n",
       "    <tr style=\"text-align: right;\">\n",
       "      <th></th>\n",
       "      <th>Text</th>\n",
       "      <th>Label</th>\n",
       "    </tr>\n",
       "  </thead>\n",
       "  <tbody>\n",
       "    <tr>\n",
       "      <th>0</th>\n",
       "      <td>is upset that he can't update his Facebook by ...</td>\n",
       "      <td>negative</td>\n",
       "    </tr>\n",
       "    <tr>\n",
       "      <th>1</th>\n",
       "      <td>@Kenichan I dived many times for the ball. Man...</td>\n",
       "      <td>negative</td>\n",
       "    </tr>\n",
       "    <tr>\n",
       "      <th>2</th>\n",
       "      <td>my whole body feels itchy and like its on fire</td>\n",
       "      <td>negative</td>\n",
       "    </tr>\n",
       "    <tr>\n",
       "      <th>3</th>\n",
       "      <td>@nationwideclass no, it's not behaving at all....</td>\n",
       "      <td>negative</td>\n",
       "    </tr>\n",
       "    <tr>\n",
       "      <th>4</th>\n",
       "      <td>@Kwesidei not the whole crew</td>\n",
       "      <td>negative</td>\n",
       "    </tr>\n",
       "  </tbody>\n",
       "</table>\n",
       "</div>"
      ],
      "text/plain": [
       "                                                Text     Label\n",
       "0  is upset that he can't update his Facebook by ...  negative\n",
       "1  @Kenichan I dived many times for the ball. Man...  negative\n",
       "2    my whole body feels itchy and like its on fire   negative\n",
       "3  @nationwideclass no, it's not behaving at all....  negative\n",
       "4                      @Kwesidei not the whole crew   negative"
      ]
     },
     "execution_count": 15,
     "metadata": {},
     "output_type": "execute_result"
    }
   ],
   "source": [
    "tweets = pd.read_parquet('../data/raw/Many_Tweets.parquet',engine='fastparquet')\n",
    "tweets.head()"
   ]
  },
  {
   "cell_type": "code",
   "execution_count": 16,
   "id": "e46f7b4a",
   "metadata": {},
   "outputs": [
    {
     "data": {
      "text/plain": [
       "Label\n",
       "positive    1048516\n",
       "negative    1044145\n",
       "neutral      198586\n",
       "Name: count, dtype: int64"
      ]
     },
     "execution_count": 16,
     "metadata": {},
     "output_type": "execute_result"
    }
   ],
   "source": [
    "tweets['Label'].value_counts()"
   ]
  },
  {
   "cell_type": "code",
   "execution_count": 17,
   "id": "c923bad5",
   "metadata": {},
   "outputs": [],
   "source": [
    "targuet_total = 200_000 \n",
    "num_classes = len(tweets['Label'].unique())\n",
    "samples_per_class = targuet_total // num_classes\n",
    "\n",
    "undersampled = pd.DataFrame()\n",
    "\n",
    "for label in tweets['Label'].unique():\n",
    "    df_label = tweets[tweets['Label']==label]\n",
    "    n_samples = min(samples_per_class,len(df_label))\n",
    "    df_downsampled = df_label.sample(n=n_samples, random_state=8)\n",
    "    undersampled = pd.concat([undersampled,df_downsampled])\n",
    "\n",
    "undersampled = undersampled.sample(frac=1,random_state=8).reset_index(drop=True)"
   ]
  },
  {
   "cell_type": "code",
   "execution_count": 18,
   "id": "30a5c5e0",
   "metadata": {},
   "outputs": [],
   "source": [
    "# Data Split\n",
    "X_train_val,X_test,y_train_val,y_test = train_test_split(undersampled['Text'],undersampled['Label'],\n",
    "                                                         test_size=0.2,random_state=8)\n",
    "X_train,X_val,y_train,y_val = train_test_split(X_train_val,y_train_val,test_size=0.2,random_state=8)\n",
    "\n",
    "train = pd.concat([X_train,y_train],axis=1).reset_index(drop=True)\n",
    "val = pd.concat([X_val,y_val],axis=1).reset_index(drop=True)\n",
    "test = pd.concat([X_test,y_test],axis=1).reset_index(drop=True)"
   ]
  },
  {
   "cell_type": "code",
   "execution_count": 19,
   "id": "ca4aa1c0",
   "metadata": {},
   "outputs": [
    {
     "name": "stdout",
     "output_type": "stream",
     "text": [
      "Text     0\n",
      "Label    0\n",
      "dtype: int64\n",
      "Text     0\n",
      "Label    0\n",
      "dtype: int64\n",
      "Text     0\n",
      "Label    0\n",
      "dtype: int64\n"
     ]
    }
   ],
   "source": [
    "# Exploratory Analysis\n",
    "print(train.isnull().sum())\n",
    "print(test.isnull().sum())\n",
    "print(val.isnull().sum())"
   ]
  },
  {
   "cell_type": "code",
   "execution_count": 20,
   "id": "7c81504a",
   "metadata": {},
   "outputs": [],
   "source": [
    "# Cleaning null values\n",
    "train = train.dropna()\n",
    "test = test.dropna()\n",
    "val = val.dropna()"
   ]
  },
  {
   "cell_type": "code",
   "execution_count": 21,
   "id": "a7e80481",
   "metadata": {},
   "outputs": [],
   "source": [
    "# Text Cleaning\n",
    "import sys\n",
    "import os\n",
    "\n",
    "project_root = os.path.abspath(os.path.join(os.getcwd(), '..'))\n",
    "if project_root not in sys.path:\n",
    "    sys.path.insert(0, project_root)\n",
    "\n",
    "from src.data.preprocessing import process_dataset_parallel"
   ]
  },
  {
   "cell_type": "code",
   "execution_count": 22,
   "id": "e3f61889",
   "metadata": {},
   "outputs": [
    {
     "name": "stderr",
     "output_type": "stream",
     "text": [
      "  0%|          | 0/127998 [00:00<?, ?it/s]"
     ]
    },
    {
     "name": "stderr",
     "output_type": "stream",
     "text": [
      "100%|██████████| 127998/127998 [00:06<00:00, 19046.39it/s]\n"
     ]
    }
   ],
   "source": [
    "# Cleaning training dataframe \n",
    "training_clean = process_dataset_parallel(train,'Text')"
   ]
  },
  {
   "cell_type": "code",
   "execution_count": 23,
   "id": "f58b9e72",
   "metadata": {},
   "outputs": [
    {
     "name": "stderr",
     "output_type": "stream",
     "text": [
      "100%|██████████| 40000/40000 [00:02<00:00, 17078.54it/s]\n"
     ]
    }
   ],
   "source": [
    "# Cleaning test dataframe \n",
    "test_clean = process_dataset_parallel(test,'Text')"
   ]
  },
  {
   "cell_type": "code",
   "execution_count": 24,
   "id": "37d7ce8e",
   "metadata": {},
   "outputs": [
    {
     "name": "stderr",
     "output_type": "stream",
     "text": [
      "100%|██████████| 32000/32000 [00:01<00:00, 21751.38it/s]\n"
     ]
    }
   ],
   "source": [
    "# Cleaning val dataframe \n",
    "val_clean = process_dataset_parallel(val,'Text')"
   ]
  },
  {
   "cell_type": "code",
   "execution_count": 25,
   "id": "5c29c78d",
   "metadata": {},
   "outputs": [],
   "source": [
    "# Change for clean text\n",
    "train['Text'] = training_clean\n",
    "test['Text'] = test_clean\n",
    "val['Text'] = val_clean\n",
    "\n",
    "# Map class labels \n",
    "labels_mapped = {\n",
    "    'negative':0,\n",
    "    'positive':1,\n",
    "    'neutral':2\n",
    "}\n",
    "\n",
    "train['Label'] = train['Label'].map(labels_mapped)\n",
    "test['Label'] = test['Label'].map(labels_mapped)\n",
    "val['Label'] = val['Label'].map(labels_mapped)\n",
    "\n",
    "# Export process data\n",
    "train.to_parquet('../data/processed/clean_train_tweets.parquet',index=False)\n",
    "test.to_parquet('../data/processed/clean_test_tweets.parquet',index=False)\n",
    "val.to_parquet('../data/processed/clean_val_tweets.parquet',index=False)"
   ]
  }
 ],
 "metadata": {
  "kernelspec": {
   "display_name": "Python (sentiment-analysis-v2)",
   "language": "python",
   "name": "sentiment-analysis-v2"
  },
  "language_info": {
   "codemirror_mode": {
    "name": "ipython",
    "version": 3
   },
   "file_extension": ".py",
   "mimetype": "text/x-python",
   "name": "python",
   "nbconvert_exporter": "python",
   "pygments_lexer": "ipython3",
   "version": "3.13.7"
  }
 },
 "nbformat": 4,
 "nbformat_minor": 5
}
