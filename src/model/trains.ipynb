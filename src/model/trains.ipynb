{
 "cells": [
  {
   "cell_type": "code",
   "execution_count": 41,
   "id": "18deb4c5",
   "metadata": {},
   "outputs": [],
   "source": [
    "import sys\n",
    "import os\n",
    "import numpy as np\n",
    "import pandas as pd\n",
    "from pathlib import Path"
   ]
  },
  {
   "cell_type": "code",
   "execution_count": 42,
   "id": "459a5e07",
   "metadata": {},
   "outputs": [],
   "source": [
    "current_dir = os.getcwd()\n",
    "project_root = current_dir\n",
    "while not os.path.isdir(os.path.join(project_root, \"src\")):\n",
    "    parent_dir = os.path.dirname(project_root)\n",
    "    if parent_dir == project_root:\n",
    "        raise FileNotFoundError(\n",
    "            \"Could not find the 'src' directory. Ensure this script is within the project structure.\"\n",
    "        )\n",
    "    project_root = parent_dir\n",
    "\n",
    "if project_root not in sys.path:\n",
    "    sys.path.insert(0, project_root)\n",
    "\n",
    "project_root = Path(project_root)"
   ]
  },
  {
   "cell_type": "code",
   "execution_count": 43,
   "id": "8f7ce02b",
   "metadata": {},
   "outputs": [],
   "source": [
    "# Define paths relative to the project root for maximum robustness.\n",
    "PROCESSED_DATA_DIR = project_root / \"data\" / \"processed\"\n",
    "TRAIN_CLEAN_PATH = PROCESSED_DATA_DIR / \"clean_train_tweets.parquet\"\n",
    "TEST_CLEAN_PATH = PROCESSED_DATA_DIR / \"clean_test_tweets.parquet\"\n",
    "VAL_CLEAN_PATH = PROCESSED_DATA_DIR / \"clean_val_tweets.parquet\"\n",
    "\n",
    "# Define where to save/load the generated embeddings for caching\n",
    "TRAIN_EMB_PATH = PROCESSED_DATA_DIR / \"train_embeddings.npy\"\n",
    "TEST_EMB_PATH = PROCESSED_DATA_DIR / \"test_embeddings.npy\"\n",
    "VAL_EMB_PATH = PROCESSED_DATA_DIR / \"val_embeddings.npy\""
   ]
  },
  {
   "cell_type": "code",
   "execution_count": 44,
   "id": "86ee5d14",
   "metadata": {},
   "outputs": [],
   "source": [
    "# from src.models.embeddings.emb_data import get_data_embeddings (is already used)\n",
    "from src.models.utils import model_metrics\n",
    "from src.model.model import create_lgbm_model, create_hyperparameter_search\n",
    "\n",
    "import pandas as pd\n",
    "import joblib as jb"
   ]
  },
  {
   "cell_type": "code",
   "execution_count": 45,
   "id": "fc651f39",
   "metadata": {},
   "outputs": [],
   "source": [
    "train_labels = pd.read_parquet(TRAIN_CLEAN_PATH)\n",
    "test_labels = pd.read_parquet(TEST_CLEAN_PATH)\n",
    "val_labels = pd.read_parquet(VAL_CLEAN_PATH)"
   ]
  },
  {
   "cell_type": "code",
   "execution_count": 46,
   "id": "3c9ccaab",
   "metadata": {},
   "outputs": [],
   "source": [
    "# Load labels\n",
    "y_train = train_labels['Label'].values\n",
    "y_test = test_labels['Label'].values\n",
    "y_val = val_labels['Label'].values"
   ]
  },
  {
   "cell_type": "code",
   "execution_count": 47,
   "id": "74b7a8ef",
   "metadata": {},
   "outputs": [],
   "source": [
    "### Load embeddings ###\n",
    "# emb_train, emb_test, emb_val = get_data_embeddings() (Is already loaded)\n",
    "emb_train, emb_test, emb_val = np.load(TRAIN_EMB_PATH), np.load(TEST_EMB_PATH), np.load(VAL_EMB_PATH)"
   ]
  },
  {
   "cell_type": "code",
   "execution_count": 48,
   "id": "d158589a",
   "metadata": {},
   "outputs": [],
   "source": [
    "# Create model\n",
    "lbgm = create_lgbm_model()\n",
    "random_search = create_hyperparameter_search(estimator=lbgm, n_iter=15)"
   ]
  },
  {
   "cell_type": "code",
   "execution_count": 49,
   "id": "689b5c0a",
   "metadata": {},
   "outputs": [
    {
     "name": "stdout",
     "output_type": "stream",
     "text": [
      "Fitting 3 folds for each of 15 candidates, totalling 45 fits\n",
      "[LightGBM] [Info] Auto-choosing col-wise multi-threading, the overhead of testing was 2.166462 seconds.\n",
      "You can set `force_col_wise=true` to remove the overhead.\n",
      "[LightGBM] [Info] Total Bins 97920\n",
      "[LightGBM] [Info] Number of data points in the train set: 85332, number of used features: 384\n",
      "[LightGBM] [Info] Start training from score -1.097277\n",
      "[LightGBM] [Info] Start training from score -1.101041\n",
      "[LightGBM] [Info] Start training from score -1.097523\n",
      "[LightGBM] [Info] Auto-choosing col-wise multi-threading, the overhead of testing was 0.989422 seconds.\n",
      "You can set `force_col_wise=true` to remove the overhead.\n",
      "[LightGBM] [Info] Total Bins 97920\n",
      "[LightGBM] [Info] Number of data points in the train set: 85332, number of used features: 384\n",
      "[LightGBM] [Info] Start training from score -1.097312\n",
      "[LightGBM] [Info] Start training from score -1.101041\n",
      "[LightGBM] [Info] Start training from score -1.097488\n"
     ]
    },
    {
     "name": "stderr",
     "output_type": "stream",
     "text": [
      "/home/juancho_col/Documents/Projects/Sentiment Analysis v2/.venv/lib/python3.13/site-packages/sklearn/utils/validation.py:2749: UserWarning: X does not have valid feature names, but LGBMClassifier was fitted with feature names\n",
      "  warnings.warn(\n",
      "/home/juancho_col/Documents/Projects/Sentiment Analysis v2/.venv/lib/python3.13/site-packages/sklearn/utils/validation.py:2749: UserWarning: X does not have valid feature names, but LGBMClassifier was fitted with feature names\n",
      "  warnings.warn(\n"
     ]
    },
    {
     "name": "stdout",
     "output_type": "stream",
     "text": [
      "[CV] END colsample_bytree=0.8, learning_rate=0.1, max_depth=10, min_child_samples=10, n_estimators=1500, num_leaves=20, reg_alpha=0.1, reg_lambda=0.01, subsample=1.0; total time=18.9min\n",
      "[CV] END colsample_bytree=0.8, learning_rate=0.1, max_depth=10, min_child_samples=10, n_estimators=1500, num_leaves=20, reg_alpha=0.1, reg_lambda=0.01, subsample=1.0; total time=19.0min\n",
      "[LightGBM] [Info] Auto-choosing col-wise multi-threading, the overhead of testing was 0.911089 seconds.\n",
      "You can set `force_col_wise=true` to remove the overhead.\n",
      "[LightGBM] [Info] Total Bins 97920\n",
      "[LightGBM] [Info] Number of data points in the train set: 85332, number of used features: 384\n",
      "[LightGBM] [Info] Start training from score -1.097312\n",
      "[LightGBM] [Info] Start training from score -1.101006\n",
      "[LightGBM] [Info] Start training from score -1.097523\n",
      "[LightGBM] [Info] Auto-choosing col-wise multi-threading, the overhead of testing was 0.777556 seconds.\n",
      "You can set `force_col_wise=true` to remove the overhead.\n",
      "[LightGBM] [Info] Total Bins 97920\n",
      "[LightGBM] [Info] Number of data points in the train set: 85332, number of used features: 384\n",
      "[LightGBM] [Info] Start training from score -1.097312\n",
      "[LightGBM] [Info] Start training from score -1.101041\n",
      "[LightGBM] [Info] Start training from score -1.097488\n"
     ]
    },
    {
     "name": "stderr",
     "output_type": "stream",
     "text": [
      "/home/juancho_col/Documents/Projects/Sentiment Analysis v2/.venv/lib/python3.13/site-packages/sklearn/utils/validation.py:2749: UserWarning: X does not have valid feature names, but LGBMClassifier was fitted with feature names\n",
      "  warnings.warn(\n"
     ]
    },
    {
     "name": "stdout",
     "output_type": "stream",
     "text": [
      "[CV] END colsample_bytree=0.8, learning_rate=0.1, max_depth=10, min_child_samples=10, n_estimators=1500, num_leaves=20, reg_alpha=0.1, reg_lambda=0.01, subsample=1.0; total time=15.0min\n",
      "[LightGBM] [Info] Auto-choosing col-wise multi-threading, the overhead of testing was 0.803148 seconds.\n",
      "You can set `force_col_wise=true` to remove the overhead.\n",
      "[LightGBM] [Info] Total Bins 97920\n",
      "[LightGBM] [Info] Number of data points in the train set: 85332, number of used features: 384\n",
      "[LightGBM] [Info] Start training from score -1.097277\n",
      "[LightGBM] [Info] Start training from score -1.101041\n",
      "[LightGBM] [Info] Start training from score -1.097523\n"
     ]
    },
    {
     "name": "stderr",
     "output_type": "stream",
     "text": [
      "/home/juancho_col/Documents/Projects/Sentiment Analysis v2/.venv/lib/python3.13/site-packages/sklearn/utils/validation.py:2749: UserWarning: X does not have valid feature names, but LGBMClassifier was fitted with feature names\n",
      "  warnings.warn(\n"
     ]
    },
    {
     "name": "stdout",
     "output_type": "stream",
     "text": [
      "[CV] END colsample_bytree=1.0, learning_rate=0.1, max_depth=20, min_child_samples=10, n_estimators=1500, num_leaves=31, reg_alpha=0.01, reg_lambda=0.1, subsample=0.8; total time=24.5min\n",
      "[LightGBM] [Info] Auto-choosing col-wise multi-threading, the overhead of testing was 0.770034 seconds.\n",
      "You can set `force_col_wise=true` to remove the overhead.\n",
      "[LightGBM] [Info] Total Bins 97920\n",
      "[LightGBM] [Info] Number of data points in the train set: 85332, number of used features: 384\n",
      "[LightGBM] [Info] Start training from score -1.097312\n",
      "[LightGBM] [Info] Start training from score -1.101006\n",
      "[LightGBM] [Info] Start training from score -1.097523\n"
     ]
    },
    {
     "name": "stderr",
     "output_type": "stream",
     "text": [
      "/home/juancho_col/Documents/Projects/Sentiment Analysis v2/.venv/lib/python3.13/site-packages/sklearn/utils/validation.py:2749: UserWarning: X does not have valid feature names, but LGBMClassifier was fitted with feature names\n",
      "  warnings.warn(\n"
     ]
    },
    {
     "name": "stdout",
     "output_type": "stream",
     "text": [
      "[CV] END colsample_bytree=1.0, learning_rate=0.1, max_depth=20, min_child_samples=10, n_estimators=1500, num_leaves=31, reg_alpha=0.01, reg_lambda=0.1, subsample=0.8; total time=24.4min\n",
      "[LightGBM] [Info] Auto-choosing col-wise multi-threading, the overhead of testing was 0.796951 seconds.\n",
      "You can set `force_col_wise=true` to remove the overhead.\n",
      "[LightGBM] [Info] Total Bins 97920\n",
      "[LightGBM] [Info] Number of data points in the train set: 85332, number of used features: 384\n",
      "[LightGBM] [Info] Start training from score -1.097312\n",
      "[LightGBM] [Info] Start training from score -1.101041\n",
      "[LightGBM] [Info] Start training from score -1.097488\n"
     ]
    },
    {
     "name": "stderr",
     "output_type": "stream",
     "text": [
      "/home/juancho_col/Documents/Projects/Sentiment Analysis v2/.venv/lib/python3.13/site-packages/sklearn/utils/validation.py:2749: UserWarning: X does not have valid feature names, but LGBMClassifier was fitted with feature names\n",
      "  warnings.warn(\n"
     ]
    },
    {
     "name": "stdout",
     "output_type": "stream",
     "text": [
      "[CV] END colsample_bytree=1.0, learning_rate=0.1, max_depth=20, min_child_samples=10, n_estimators=1500, num_leaves=31, reg_alpha=0.01, reg_lambda=0.1, subsample=0.8; total time=24.4min\n",
      "[LightGBM] [Info] Auto-choosing col-wise multi-threading, the overhead of testing was 0.768336 seconds.\n",
      "You can set `force_col_wise=true` to remove the overhead.\n",
      "[LightGBM] [Info] Total Bins 97920\n",
      "[LightGBM] [Info] Number of data points in the train set: 85332, number of used features: 384\n",
      "[LightGBM] [Info] Start training from score -1.097277\n",
      "[LightGBM] [Info] Start training from score -1.101041\n",
      "[LightGBM] [Info] Start training from score -1.097523\n"
     ]
    },
    {
     "name": "stderr",
     "output_type": "stream",
     "text": [
      "/home/juancho_col/Documents/Projects/Sentiment Analysis v2/.venv/lib/python3.13/site-packages/sklearn/utils/validation.py:2749: UserWarning: X does not have valid feature names, but LGBMClassifier was fitted with feature names\n",
      "  warnings.warn(\n"
     ]
    },
    {
     "name": "stdout",
     "output_type": "stream",
     "text": [
      "[CV] END colsample_bytree=0.8, learning_rate=0.01, max_depth=-1, min_child_samples=30, n_estimators=1500, num_leaves=40, reg_alpha=1.0, reg_lambda=0.1, subsample=0.8; total time=30.5min\n",
      "[LightGBM] [Info] Auto-choosing col-wise multi-threading, the overhead of testing was 0.784466 seconds.\n",
      "You can set `force_col_wise=true` to remove the overhead.\n",
      "[LightGBM] [Info] Total Bins 97920\n",
      "[LightGBM] [Info] Number of data points in the train set: 85332, number of used features: 384\n",
      "[LightGBM] [Info] Start training from score -1.097312\n",
      "[LightGBM] [Info] Start training from score -1.101006\n",
      "[LightGBM] [Info] Start training from score -1.097523\n"
     ]
    },
    {
     "name": "stderr",
     "output_type": "stream",
     "text": [
      "/home/juancho_col/Documents/Projects/Sentiment Analysis v2/.venv/lib/python3.13/site-packages/sklearn/utils/validation.py:2749: UserWarning: X does not have valid feature names, but LGBMClassifier was fitted with feature names\n",
      "  warnings.warn(\n"
     ]
    },
    {
     "name": "stdout",
     "output_type": "stream",
     "text": [
      "[CV] END colsample_bytree=0.8, learning_rate=0.01, max_depth=-1, min_child_samples=30, n_estimators=1500, num_leaves=40, reg_alpha=1.0, reg_lambda=0.1, subsample=0.8; total time=30.6min\n",
      "[LightGBM] [Info] Auto-choosing col-wise multi-threading, the overhead of testing was 0.798102 seconds.\n",
      "You can set `force_col_wise=true` to remove the overhead.\n",
      "[LightGBM] [Info] Total Bins 97920\n",
      "[LightGBM] [Info] Number of data points in the train set: 85332, number of used features: 384\n",
      "[LightGBM] [Info] Start training from score -1.097312\n",
      "[LightGBM] [Info] Start training from score -1.101041\n",
      "[LightGBM] [Info] Start training from score -1.097488\n"
     ]
    },
    {
     "name": "stderr",
     "output_type": "stream",
     "text": [
      "/home/juancho_col/Documents/Projects/Sentiment Analysis v2/.venv/lib/python3.13/site-packages/sklearn/utils/validation.py:2749: UserWarning: X does not have valid feature names, but LGBMClassifier was fitted with feature names\n",
      "  warnings.warn(\n"
     ]
    },
    {
     "name": "stdout",
     "output_type": "stream",
     "text": [
      "[CV] END colsample_bytree=0.9, learning_rate=0.05, max_depth=-1, min_child_samples=10, n_estimators=1500, num_leaves=20, reg_alpha=0.01, reg_lambda=1.0, subsample=1.0; total time=18.1min\n",
      "[LightGBM] [Info] Auto-choosing col-wise multi-threading, the overhead of testing was 0.784774 seconds.\n",
      "You can set `force_col_wise=true` to remove the overhead.\n",
      "[LightGBM] [Info] Total Bins 97920\n",
      "[LightGBM] [Info] Number of data points in the train set: 85332, number of used features: 384\n",
      "[LightGBM] [Info] Start training from score -1.097277\n",
      "[LightGBM] [Info] Start training from score -1.101041\n",
      "[LightGBM] [Info] Start training from score -1.097523\n"
     ]
    },
    {
     "name": "stderr",
     "output_type": "stream",
     "text": [
      "/home/juancho_col/Documents/Projects/Sentiment Analysis v2/.venv/lib/python3.13/site-packages/sklearn/utils/validation.py:2749: UserWarning: X does not have valid feature names, but LGBMClassifier was fitted with feature names\n",
      "  warnings.warn(\n"
     ]
    },
    {
     "name": "stdout",
     "output_type": "stream",
     "text": [
      "[CV] END colsample_bytree=0.8, learning_rate=0.01, max_depth=-1, min_child_samples=30, n_estimators=1500, num_leaves=40, reg_alpha=1.0, reg_lambda=0.1, subsample=0.8; total time=30.5min\n",
      "[LightGBM] [Info] Auto-choosing col-wise multi-threading, the overhead of testing was 0.794273 seconds.\n",
      "You can set `force_col_wise=true` to remove the overhead.\n",
      "[LightGBM] [Info] Total Bins 97920\n",
      "[LightGBM] [Info] Number of data points in the train set: 85332, number of used features: 384\n",
      "[LightGBM] [Info] Start training from score -1.097312\n",
      "[LightGBM] [Info] Start training from score -1.101006\n",
      "[LightGBM] [Info] Start training from score -1.097523\n"
     ]
    },
    {
     "name": "stderr",
     "output_type": "stream",
     "text": [
      "/home/juancho_col/Documents/Projects/Sentiment Analysis v2/.venv/lib/python3.13/site-packages/sklearn/utils/validation.py:2749: UserWarning: X does not have valid feature names, but LGBMClassifier was fitted with feature names\n",
      "  warnings.warn(\n"
     ]
    },
    {
     "name": "stdout",
     "output_type": "stream",
     "text": [
      "[CV] END colsample_bytree=0.9, learning_rate=0.05, max_depth=-1, min_child_samples=10, n_estimators=1500, num_leaves=20, reg_alpha=0.01, reg_lambda=1.0, subsample=1.0; total time=17.9min\n",
      "[LightGBM] [Info] Auto-choosing col-wise multi-threading, the overhead of testing was 0.778522 seconds.\n",
      "You can set `force_col_wise=true` to remove the overhead.\n",
      "[LightGBM] [Info] Total Bins 97920\n",
      "[LightGBM] [Info] Number of data points in the train set: 85332, number of used features: 384\n",
      "[LightGBM] [Info] Start training from score -1.097312\n",
      "[LightGBM] [Info] Start training from score -1.101041\n",
      "[LightGBM] [Info] Start training from score -1.097488\n"
     ]
    },
    {
     "name": "stderr",
     "output_type": "stream",
     "text": [
      "/home/juancho_col/Documents/Projects/Sentiment Analysis v2/.venv/lib/python3.13/site-packages/sklearn/utils/validation.py:2749: UserWarning: X does not have valid feature names, but LGBMClassifier was fitted with feature names\n",
      "  warnings.warn(\n"
     ]
    },
    {
     "name": "stdout",
     "output_type": "stream",
     "text": [
      "[CV] END colsample_bytree=0.9, learning_rate=0.05, max_depth=-1, min_child_samples=10, n_estimators=1500, num_leaves=20, reg_alpha=0.01, reg_lambda=1.0, subsample=1.0; total time=17.9min\n",
      "[LightGBM] [Info] Auto-choosing col-wise multi-threading, the overhead of testing was 0.736628 seconds.\n",
      "You can set `force_col_wise=true` to remove the overhead.\n",
      "[LightGBM] [Info] Total Bins 97920\n",
      "[LightGBM] [Info] Number of data points in the train set: 85332, number of used features: 384\n",
      "[LightGBM] [Info] Start training from score -1.097277\n",
      "[LightGBM] [Info] Start training from score -1.101041\n",
      "[LightGBM] [Info] Start training from score -1.097523\n"
     ]
    },
    {
     "name": "stderr",
     "output_type": "stream",
     "text": [
      "/home/juancho_col/Documents/Projects/Sentiment Analysis v2/.venv/lib/python3.13/site-packages/sklearn/utils/validation.py:2749: UserWarning: X does not have valid feature names, but LGBMClassifier was fitted with feature names\n",
      "  warnings.warn(\n"
     ]
    },
    {
     "name": "stdout",
     "output_type": "stream",
     "text": [
      "[CV] END colsample_bytree=0.9, learning_rate=0.01, max_depth=10, min_child_samples=20, n_estimators=1500, num_leaves=31, reg_alpha=0.01, reg_lambda=0.01, subsample=1.0; total time=28.6min\n",
      "[LightGBM] [Info] Auto-choosing col-wise multi-threading, the overhead of testing was 0.805674 seconds.\n",
      "You can set `force_col_wise=true` to remove the overhead.\n",
      "[LightGBM] [Info] Total Bins 97920\n",
      "[LightGBM] [Info] Number of data points in the train set: 85332, number of used features: 384\n",
      "[LightGBM] [Info] Start training from score -1.097312\n",
      "[LightGBM] [Info] Start training from score -1.101006\n",
      "[LightGBM] [Info] Start training from score -1.097523\n"
     ]
    },
    {
     "name": "stderr",
     "output_type": "stream",
     "text": [
      "/home/juancho_col/Documents/Projects/Sentiment Analysis v2/.venv/lib/python3.13/site-packages/sklearn/utils/validation.py:2749: UserWarning: X does not have valid feature names, but LGBMClassifier was fitted with feature names\n",
      "  warnings.warn(\n"
     ]
    },
    {
     "name": "stdout",
     "output_type": "stream",
     "text": [
      "[CV] END colsample_bytree=0.9, learning_rate=0.01, max_depth=10, min_child_samples=20, n_estimators=1500, num_leaves=31, reg_alpha=0.01, reg_lambda=0.01, subsample=1.0; total time=28.6min\n",
      "[LightGBM] [Info] Auto-choosing col-wise multi-threading, the overhead of testing was 0.792372 seconds.\n",
      "You can set `force_col_wise=true` to remove the overhead.\n",
      "[LightGBM] [Info] Total Bins 97920\n",
      "[LightGBM] [Info] Number of data points in the train set: 85332, number of used features: 384\n",
      "[LightGBM] [Info] Start training from score -1.097312\n",
      "[LightGBM] [Info] Start training from score -1.101041\n",
      "[LightGBM] [Info] Start training from score -1.097488\n"
     ]
    },
    {
     "name": "stderr",
     "output_type": "stream",
     "text": [
      "/home/juancho_col/Documents/Projects/Sentiment Analysis v2/.venv/lib/python3.13/site-packages/sklearn/utils/validation.py:2749: UserWarning: X does not have valid feature names, but LGBMClassifier was fitted with feature names\n",
      "  warnings.warn(\n"
     ]
    },
    {
     "name": "stdout",
     "output_type": "stream",
     "text": [
      "[CV] END colsample_bytree=0.8, learning_rate=0.1, max_depth=20, min_child_samples=20, n_estimators=1000, num_leaves=31, reg_alpha=1.0, reg_lambda=1.0, subsample=1.0; total time=13.8min\n",
      "[LightGBM] [Info] Auto-choosing col-wise multi-threading, the overhead of testing was 0.801998 seconds.\n",
      "You can set `force_col_wise=true` to remove the overhead.\n",
      "[LightGBM] [Info] Total Bins 97920\n",
      "[LightGBM] [Info] Number of data points in the train set: 85332, number of used features: 384\n",
      "[LightGBM] [Info] Start training from score -1.097277\n",
      "[LightGBM] [Info] Start training from score -1.101041\n",
      "[LightGBM] [Info] Start training from score -1.097523\n"
     ]
    },
    {
     "name": "stderr",
     "output_type": "stream",
     "text": [
      "/home/juancho_col/Documents/Projects/Sentiment Analysis v2/.venv/lib/python3.13/site-packages/sklearn/utils/validation.py:2749: UserWarning: X does not have valid feature names, but LGBMClassifier was fitted with feature names\n",
      "  warnings.warn(\n"
     ]
    },
    {
     "name": "stdout",
     "output_type": "stream",
     "text": [
      "[CV] END colsample_bytree=0.9, learning_rate=0.01, max_depth=10, min_child_samples=20, n_estimators=1500, num_leaves=31, reg_alpha=0.01, reg_lambda=0.01, subsample=1.0; total time=28.4min\n",
      "[LightGBM] [Info] Auto-choosing col-wise multi-threading, the overhead of testing was 0.757945 seconds.\n",
      "You can set `force_col_wise=true` to remove the overhead.\n",
      "[LightGBM] [Info] Total Bins 97920\n",
      "[LightGBM] [Info] Number of data points in the train set: 85332, number of used features: 384\n",
      "[LightGBM] [Info] Start training from score -1.097312\n",
      "[LightGBM] [Info] Start training from score -1.101006\n",
      "[LightGBM] [Info] Start training from score -1.097523\n"
     ]
    },
    {
     "name": "stderr",
     "output_type": "stream",
     "text": [
      "/home/juancho_col/Documents/Projects/Sentiment Analysis v2/.venv/lib/python3.13/site-packages/sklearn/utils/validation.py:2749: UserWarning: X does not have valid feature names, but LGBMClassifier was fitted with feature names\n",
      "  warnings.warn(\n"
     ]
    },
    {
     "name": "stdout",
     "output_type": "stream",
     "text": [
      "[CV] END colsample_bytree=0.8, learning_rate=0.1, max_depth=20, min_child_samples=20, n_estimators=1000, num_leaves=31, reg_alpha=1.0, reg_lambda=1.0, subsample=1.0; total time=14.0min\n",
      "[LightGBM] [Info] Auto-choosing col-wise multi-threading, the overhead of testing was 0.782290 seconds.\n",
      "You can set `force_col_wise=true` to remove the overhead.\n",
      "[LightGBM] [Info] Total Bins 97920\n",
      "[LightGBM] [Info] Number of data points in the train set: 85332, number of used features: 384\n",
      "[LightGBM] [Info] Start training from score -1.097312\n",
      "[LightGBM] [Info] Start training from score -1.101041\n",
      "[LightGBM] [Info] Start training from score -1.097488\n"
     ]
    },
    {
     "name": "stderr",
     "output_type": "stream",
     "text": [
      "/home/juancho_col/Documents/Projects/Sentiment Analysis v2/.venv/lib/python3.13/site-packages/sklearn/utils/validation.py:2749: UserWarning: X does not have valid feature names, but LGBMClassifier was fitted with feature names\n",
      "  warnings.warn(\n"
     ]
    },
    {
     "name": "stdout",
     "output_type": "stream",
     "text": [
      "[CV] END colsample_bytree=0.9, learning_rate=0.1, max_depth=20, min_child_samples=20, n_estimators=500, num_leaves=40, reg_alpha=0.01, reg_lambda=1.0, subsample=0.8; total time= 9.7min\n",
      "[LightGBM] [Info] Auto-choosing col-wise multi-threading, the overhead of testing was 0.776967 seconds.\n",
      "You can set `force_col_wise=true` to remove the overhead.\n",
      "[LightGBM] [Info] Total Bins 97920\n",
      "[LightGBM] [Info] Number of data points in the train set: 85332, number of used features: 384\n",
      "[LightGBM] [Info] Start training from score -1.097277\n",
      "[LightGBM] [Info] Start training from score -1.101041\n",
      "[LightGBM] [Info] Start training from score -1.097523\n"
     ]
    },
    {
     "name": "stderr",
     "output_type": "stream",
     "text": [
      "/home/juancho_col/Documents/Projects/Sentiment Analysis v2/.venv/lib/python3.13/site-packages/sklearn/utils/validation.py:2749: UserWarning: X does not have valid feature names, but LGBMClassifier was fitted with feature names\n",
      "  warnings.warn(\n"
     ]
    },
    {
     "name": "stdout",
     "output_type": "stream",
     "text": [
      "[CV] END colsample_bytree=0.8, learning_rate=0.1, max_depth=20, min_child_samples=20, n_estimators=1000, num_leaves=31, reg_alpha=1.0, reg_lambda=1.0, subsample=1.0; total time=13.8min\n",
      "[LightGBM] [Info] Auto-choosing col-wise multi-threading, the overhead of testing was 0.777420 seconds.\n",
      "You can set `force_col_wise=true` to remove the overhead.\n",
      "[LightGBM] [Info] Total Bins 97920\n",
      "[LightGBM] [Info] Number of data points in the train set: 85332, number of used features: 384\n",
      "[LightGBM] [Info] Start training from score -1.097312\n",
      "[LightGBM] [Info] Start training from score -1.101006\n",
      "[LightGBM] [Info] Start training from score -1.097523\n"
     ]
    },
    {
     "name": "stderr",
     "output_type": "stream",
     "text": [
      "/home/juancho_col/Documents/Projects/Sentiment Analysis v2/.venv/lib/python3.13/site-packages/sklearn/utils/validation.py:2749: UserWarning: X does not have valid feature names, but LGBMClassifier was fitted with feature names\n",
      "  warnings.warn(\n"
     ]
    },
    {
     "name": "stdout",
     "output_type": "stream",
     "text": [
      "[CV] END colsample_bytree=0.9, learning_rate=0.1, max_depth=20, min_child_samples=20, n_estimators=500, num_leaves=40, reg_alpha=0.01, reg_lambda=1.0, subsample=0.8; total time= 9.7min\n",
      "[LightGBM] [Info] Auto-choosing col-wise multi-threading, the overhead of testing was 0.788569 seconds.\n",
      "You can set `force_col_wise=true` to remove the overhead.\n",
      "[LightGBM] [Info] Total Bins 97920\n",
      "[LightGBM] [Info] Number of data points in the train set: 85332, number of used features: 384\n",
      "[LightGBM] [Info] Start training from score -1.097312\n",
      "[LightGBM] [Info] Start training from score -1.101041\n",
      "[LightGBM] [Info] Start training from score -1.097488\n"
     ]
    },
    {
     "name": "stderr",
     "output_type": "stream",
     "text": [
      "/home/juancho_col/Documents/Projects/Sentiment Analysis v2/.venv/lib/python3.13/site-packages/sklearn/utils/validation.py:2749: UserWarning: X does not have valid feature names, but LGBMClassifier was fitted with feature names\n",
      "  warnings.warn(\n"
     ]
    },
    {
     "name": "stdout",
     "output_type": "stream",
     "text": [
      "[CV] END colsample_bytree=0.9, learning_rate=0.1, max_depth=20, min_child_samples=20, n_estimators=500, num_leaves=40, reg_alpha=0.01, reg_lambda=1.0, subsample=0.8; total time= 9.6min\n",
      "[LightGBM] [Info] Auto-choosing col-wise multi-threading, the overhead of testing was 0.797606 seconds.\n",
      "You can set `force_col_wise=true` to remove the overhead.\n",
      "[LightGBM] [Info] Total Bins 97920\n",
      "[LightGBM] [Info] Number of data points in the train set: 85332, number of used features: 384\n",
      "[LightGBM] [Info] Start training from score -1.097277\n",
      "[LightGBM] [Info] Start training from score -1.101041\n",
      "[LightGBM] [Info] Start training from score -1.097523\n"
     ]
    },
    {
     "name": "stderr",
     "output_type": "stream",
     "text": [
      "/home/juancho_col/Documents/Projects/Sentiment Analysis v2/.venv/lib/python3.13/site-packages/sklearn/utils/validation.py:2749: UserWarning: X does not have valid feature names, but LGBMClassifier was fitted with feature names\n",
      "  warnings.warn(\n"
     ]
    },
    {
     "name": "stdout",
     "output_type": "stream",
     "text": [
      "[CV] END colsample_bytree=0.8, learning_rate=0.01, max_depth=-1, min_child_samples=30, n_estimators=1000, num_leaves=40, reg_alpha=0.1, reg_lambda=1.0, subsample=1.0; total time=20.7min\n",
      "[LightGBM] [Info] Auto-choosing col-wise multi-threading, the overhead of testing was 0.784441 seconds.\n",
      "You can set `force_col_wise=true` to remove the overhead.\n",
      "[LightGBM] [Info] Total Bins 97920\n",
      "[LightGBM] [Info] Number of data points in the train set: 85332, number of used features: 384\n",
      "[LightGBM] [Info] Start training from score -1.097312\n",
      "[LightGBM] [Info] Start training from score -1.101006\n",
      "[LightGBM] [Info] Start training from score -1.097523\n"
     ]
    },
    {
     "name": "stderr",
     "output_type": "stream",
     "text": [
      "/home/juancho_col/Documents/Projects/Sentiment Analysis v2/.venv/lib/python3.13/site-packages/sklearn/utils/validation.py:2749: UserWarning: X does not have valid feature names, but LGBMClassifier was fitted with feature names\n",
      "  warnings.warn(\n"
     ]
    },
    {
     "name": "stdout",
     "output_type": "stream",
     "text": [
      "[CV] END colsample_bytree=0.8, learning_rate=0.01, max_depth=-1, min_child_samples=30, n_estimators=1000, num_leaves=40, reg_alpha=0.1, reg_lambda=1.0, subsample=1.0; total time=20.8min\n",
      "[LightGBM] [Info] Auto-choosing col-wise multi-threading, the overhead of testing was 0.799051 seconds.\n",
      "You can set `force_col_wise=true` to remove the overhead.\n",
      "[LightGBM] [Info] Total Bins 97920\n",
      "[LightGBM] [Info] Number of data points in the train set: 85332, number of used features: 384\n",
      "[LightGBM] [Info] Start training from score -1.097312\n",
      "[LightGBM] [Info] Start training from score -1.101041\n",
      "[LightGBM] [Info] Start training from score -1.097488\n"
     ]
    },
    {
     "name": "stderr",
     "output_type": "stream",
     "text": [
      "/home/juancho_col/Documents/Projects/Sentiment Analysis v2/.venv/lib/python3.13/site-packages/sklearn/utils/validation.py:2749: UserWarning: X does not have valid feature names, but LGBMClassifier was fitted with feature names\n",
      "  warnings.warn(\n"
     ]
    },
    {
     "name": "stdout",
     "output_type": "stream",
     "text": [
      "[CV] END colsample_bytree=1.0, learning_rate=0.01, max_depth=20, min_child_samples=20, n_estimators=1000, num_leaves=20, reg_alpha=0.1, reg_lambda=0.1, subsample=1.0; total time=18.6min\n",
      "[LightGBM] [Info] Auto-choosing col-wise multi-threading, the overhead of testing was 0.790279 seconds.\n",
      "You can set `force_col_wise=true` to remove the overhead.\n",
      "[LightGBM] [Info] Total Bins 97920\n",
      "[LightGBM] [Info] Number of data points in the train set: 85332, number of used features: 384\n",
      "[LightGBM] [Info] Start training from score -1.097277\n",
      "[LightGBM] [Info] Start training from score -1.101041\n",
      "[LightGBM] [Info] Start training from score -1.097523\n"
     ]
    },
    {
     "name": "stderr",
     "output_type": "stream",
     "text": [
      "/home/juancho_col/Documents/Projects/Sentiment Analysis v2/.venv/lib/python3.13/site-packages/sklearn/utils/validation.py:2749: UserWarning: X does not have valid feature names, but LGBMClassifier was fitted with feature names\n",
      "  warnings.warn(\n"
     ]
    },
    {
     "name": "stdout",
     "output_type": "stream",
     "text": [
      "[CV] END colsample_bytree=0.8, learning_rate=0.01, max_depth=-1, min_child_samples=30, n_estimators=1000, num_leaves=40, reg_alpha=0.1, reg_lambda=1.0, subsample=1.0; total time=22.7min\n",
      "[LightGBM] [Info] Auto-choosing col-wise multi-threading, the overhead of testing was 0.772936 seconds.\n",
      "You can set `force_col_wise=true` to remove the overhead.\n",
      "[LightGBM] [Info] Total Bins 97920\n",
      "[LightGBM] [Info] Number of data points in the train set: 85332, number of used features: 384\n",
      "[LightGBM] [Info] Start training from score -1.097312\n",
      "[LightGBM] [Info] Start training from score -1.101006\n",
      "[LightGBM] [Info] Start training from score -1.097523\n"
     ]
    },
    {
     "name": "stderr",
     "output_type": "stream",
     "text": [
      "/home/juancho_col/Documents/Projects/Sentiment Analysis v2/.venv/lib/python3.13/site-packages/sklearn/utils/validation.py:2749: UserWarning: X does not have valid feature names, but LGBMClassifier was fitted with feature names\n",
      "  warnings.warn(\n"
     ]
    },
    {
     "name": "stdout",
     "output_type": "stream",
     "text": [
      "[CV] END colsample_bytree=1.0, learning_rate=0.01, max_depth=20, min_child_samples=20, n_estimators=1000, num_leaves=20, reg_alpha=0.1, reg_lambda=0.1, subsample=1.0; total time=17.1min\n",
      "[LightGBM] [Info] Auto-choosing col-wise multi-threading, the overhead of testing was 0.775077 seconds.\n",
      "You can set `force_col_wise=true` to remove the overhead.\n",
      "[LightGBM] [Info] Total Bins 97920\n",
      "[LightGBM] [Info] Number of data points in the train set: 85332, number of used features: 384\n",
      "[LightGBM] [Info] Start training from score -1.097312\n",
      "[LightGBM] [Info] Start training from score -1.101041\n",
      "[LightGBM] [Info] Start training from score -1.097488\n"
     ]
    },
    {
     "name": "stderr",
     "output_type": "stream",
     "text": [
      "/home/juancho_col/Documents/Projects/Sentiment Analysis v2/.venv/lib/python3.13/site-packages/sklearn/utils/validation.py:2749: UserWarning: X does not have valid feature names, but LGBMClassifier was fitted with feature names\n",
      "  warnings.warn(\n"
     ]
    },
    {
     "name": "stdout",
     "output_type": "stream",
     "text": [
      "[CV] END colsample_bytree=1.0, learning_rate=0.01, max_depth=20, min_child_samples=20, n_estimators=1000, num_leaves=20, reg_alpha=0.1, reg_lambda=0.1, subsample=1.0; total time=17.2min\n",
      "[LightGBM] [Info] Auto-choosing col-wise multi-threading, the overhead of testing was 0.790443 seconds.\n",
      "You can set `force_col_wise=true` to remove the overhead.\n",
      "[LightGBM] [Info] Total Bins 97920\n",
      "[LightGBM] [Info] Number of data points in the train set: 85332, number of used features: 384\n",
      "[LightGBM] [Info] Start training from score -1.097277\n",
      "[LightGBM] [Info] Start training from score -1.101041\n",
      "[LightGBM] [Info] Start training from score -1.097523\n"
     ]
    },
    {
     "name": "stderr",
     "output_type": "stream",
     "text": [
      "/home/juancho_col/Documents/Projects/Sentiment Analysis v2/.venv/lib/python3.13/site-packages/sklearn/utils/validation.py:2749: UserWarning: X does not have valid feature names, but LGBMClassifier was fitted with feature names\n",
      "  warnings.warn(\n"
     ]
    },
    {
     "name": "stdout",
     "output_type": "stream",
     "text": [
      "[CV] END colsample_bytree=1.0, learning_rate=0.01, max_depth=10, min_child_samples=20, n_estimators=500, num_leaves=31, reg_alpha=0.01, reg_lambda=0.1, subsample=1.0; total time=11.2min\n",
      "[LightGBM] [Info] Auto-choosing col-wise multi-threading, the overhead of testing was 0.774552 seconds.\n",
      "You can set `force_col_wise=true` to remove the overhead.\n",
      "[LightGBM] [Info] Total Bins 97920\n",
      "[LightGBM] [Info] Number of data points in the train set: 85332, number of used features: 384\n",
      "[LightGBM] [Info] Start training from score -1.097312\n",
      "[LightGBM] [Info] Start training from score -1.101006\n",
      "[LightGBM] [Info] Start training from score -1.097523\n"
     ]
    },
    {
     "name": "stderr",
     "output_type": "stream",
     "text": [
      "/home/juancho_col/Documents/Projects/Sentiment Analysis v2/.venv/lib/python3.13/site-packages/sklearn/utils/validation.py:2749: UserWarning: X does not have valid feature names, but LGBMClassifier was fitted with feature names\n",
      "  warnings.warn(\n"
     ]
    },
    {
     "name": "stdout",
     "output_type": "stream",
     "text": [
      "[CV] END colsample_bytree=1.0, learning_rate=0.01, max_depth=10, min_child_samples=20, n_estimators=500, num_leaves=31, reg_alpha=0.01, reg_lambda=0.1, subsample=1.0; total time=11.2min\n",
      "[LightGBM] [Info] Auto-choosing col-wise multi-threading, the overhead of testing was 0.776063 seconds.\n",
      "You can set `force_col_wise=true` to remove the overhead.\n",
      "[LightGBM] [Info] Total Bins 97920\n",
      "[LightGBM] [Info] Number of data points in the train set: 85332, number of used features: 384\n",
      "[LightGBM] [Info] Start training from score -1.097312\n",
      "[LightGBM] [Info] Start training from score -1.101041\n",
      "[LightGBM] [Info] Start training from score -1.097488\n"
     ]
    },
    {
     "name": "stderr",
     "output_type": "stream",
     "text": [
      "/home/juancho_col/Documents/Projects/Sentiment Analysis v2/.venv/lib/python3.13/site-packages/sklearn/utils/validation.py:2749: UserWarning: X does not have valid feature names, but LGBMClassifier was fitted with feature names\n",
      "  warnings.warn(\n"
     ]
    },
    {
     "name": "stdout",
     "output_type": "stream",
     "text": [
      "[CV] END colsample_bytree=1.0, learning_rate=0.01, max_depth=10, min_child_samples=20, n_estimators=500, num_leaves=31, reg_alpha=0.01, reg_lambda=0.1, subsample=1.0; total time=11.6min\n",
      "[LightGBM] [Info] Auto-choosing col-wise multi-threading, the overhead of testing was 0.971094 seconds.\n",
      "You can set `force_col_wise=true` to remove the overhead.\n",
      "[LightGBM] [Info] Total Bins 97920\n",
      "[LightGBM] [Info] Number of data points in the train set: 85332, number of used features: 384\n",
      "[LightGBM] [Info] Start training from score -1.097277\n",
      "[LightGBM] [Info] Start training from score -1.101041\n",
      "[LightGBM] [Info] Start training from score -1.097523\n"
     ]
    },
    {
     "name": "stderr",
     "output_type": "stream",
     "text": [
      "/home/juancho_col/Documents/Projects/Sentiment Analysis v2/.venv/lib/python3.13/site-packages/sklearn/utils/validation.py:2749: UserWarning: X does not have valid feature names, but LGBMClassifier was fitted with feature names\n",
      "  warnings.warn(\n"
     ]
    },
    {
     "name": "stdout",
     "output_type": "stream",
     "text": [
      "[CV] END colsample_bytree=0.9, learning_rate=0.1, max_depth=-1, min_child_samples=30, n_estimators=1500, num_leaves=40, reg_alpha=1.0, reg_lambda=0.1, subsample=0.8; total time=28.4min\n",
      "[LightGBM] [Info] Auto-choosing col-wise multi-threading, the overhead of testing was 0.797081 seconds.\n",
      "You can set `force_col_wise=true` to remove the overhead.\n",
      "[LightGBM] [Info] Total Bins 97920\n",
      "[LightGBM] [Info] Number of data points in the train set: 85332, number of used features: 384\n",
      "[LightGBM] [Info] Start training from score -1.097312\n",
      "[LightGBM] [Info] Start training from score -1.101006\n",
      "[LightGBM] [Info] Start training from score -1.097523\n"
     ]
    },
    {
     "name": "stderr",
     "output_type": "stream",
     "text": [
      "/home/juancho_col/Documents/Projects/Sentiment Analysis v2/.venv/lib/python3.13/site-packages/sklearn/utils/validation.py:2749: UserWarning: X does not have valid feature names, but LGBMClassifier was fitted with feature names\n",
      "  warnings.warn(\n"
     ]
    },
    {
     "name": "stdout",
     "output_type": "stream",
     "text": [
      "[CV] END colsample_bytree=0.9, learning_rate=0.1, max_depth=-1, min_child_samples=30, n_estimators=1500, num_leaves=40, reg_alpha=1.0, reg_lambda=0.1, subsample=0.8; total time=27.9min\n",
      "[LightGBM] [Info] Auto-choosing col-wise multi-threading, the overhead of testing was 0.699985 seconds.\n",
      "You can set `force_col_wise=true` to remove the overhead.\n",
      "[LightGBM] [Info] Total Bins 97920\n",
      "[LightGBM] [Info] Number of data points in the train set: 85332, number of used features: 384\n",
      "[LightGBM] [Info] Start training from score -1.097312\n",
      "[LightGBM] [Info] Start training from score -1.101041\n",
      "[LightGBM] [Info] Start training from score -1.097488\n"
     ]
    },
    {
     "name": "stderr",
     "output_type": "stream",
     "text": [
      "/home/juancho_col/Documents/Projects/Sentiment Analysis v2/.venv/lib/python3.13/site-packages/sklearn/utils/validation.py:2749: UserWarning: X does not have valid feature names, but LGBMClassifier was fitted with feature names\n",
      "  warnings.warn(\n"
     ]
    },
    {
     "name": "stdout",
     "output_type": "stream",
     "text": [
      "[CV] END colsample_bytree=0.8, learning_rate=0.05, max_depth=-1, min_child_samples=30, n_estimators=500, num_leaves=40, reg_alpha=1.0, reg_lambda=1.0, subsample=1.0; total time= 9.9min\n",
      "[LightGBM] [Info] Auto-choosing col-wise multi-threading, the overhead of testing was 0.772334 seconds.\n",
      "You can set `force_col_wise=true` to remove the overhead.\n",
      "[LightGBM] [Info] Total Bins 97920\n",
      "[LightGBM] [Info] Number of data points in the train set: 85332, number of used features: 384\n",
      "[LightGBM] [Info] Start training from score -1.097277\n",
      "[LightGBM] [Info] Start training from score -1.101041\n",
      "[LightGBM] [Info] Start training from score -1.097523\n"
     ]
    },
    {
     "name": "stderr",
     "output_type": "stream",
     "text": [
      "/home/juancho_col/Documents/Projects/Sentiment Analysis v2/.venv/lib/python3.13/site-packages/sklearn/utils/validation.py:2749: UserWarning: X does not have valid feature names, but LGBMClassifier was fitted with feature names\n",
      "  warnings.warn(\n"
     ]
    },
    {
     "name": "stdout",
     "output_type": "stream",
     "text": [
      "[CV] END colsample_bytree=0.9, learning_rate=0.1, max_depth=-1, min_child_samples=30, n_estimators=1500, num_leaves=40, reg_alpha=1.0, reg_lambda=0.1, subsample=0.8; total time=26.7min\n",
      "[LightGBM] [Info] Auto-choosing col-wise multi-threading, the overhead of testing was 0.765379 seconds.\n",
      "You can set `force_col_wise=true` to remove the overhead.\n",
      "[LightGBM] [Info] Total Bins 97920\n",
      "[LightGBM] [Info] Number of data points in the train set: 85332, number of used features: 384\n",
      "[LightGBM] [Info] Start training from score -1.097312\n",
      "[LightGBM] [Info] Start training from score -1.101006\n",
      "[LightGBM] [Info] Start training from score -1.097523\n"
     ]
    },
    {
     "name": "stderr",
     "output_type": "stream",
     "text": [
      "/home/juancho_col/Documents/Projects/Sentiment Analysis v2/.venv/lib/python3.13/site-packages/sklearn/utils/validation.py:2749: UserWarning: X does not have valid feature names, but LGBMClassifier was fitted with feature names\n",
      "  warnings.warn(\n"
     ]
    },
    {
     "name": "stdout",
     "output_type": "stream",
     "text": [
      "[CV] END colsample_bytree=0.8, learning_rate=0.05, max_depth=-1, min_child_samples=30, n_estimators=500, num_leaves=40, reg_alpha=1.0, reg_lambda=1.0, subsample=1.0; total time=10.5min\n",
      "[LightGBM] [Info] Auto-choosing col-wise multi-threading, the overhead of testing was 0.914889 seconds.\n",
      "You can set `force_col_wise=true` to remove the overhead.\n",
      "[LightGBM] [Info] Total Bins 97920\n",
      "[LightGBM] [Info] Number of data points in the train set: 85332, number of used features: 384\n",
      "[LightGBM] [Info] Start training from score -1.097312\n",
      "[LightGBM] [Info] Start training from score -1.101041\n",
      "[LightGBM] [Info] Start training from score -1.097488\n"
     ]
    },
    {
     "name": "stderr",
     "output_type": "stream",
     "text": [
      "/home/juancho_col/Documents/Projects/Sentiment Analysis v2/.venv/lib/python3.13/site-packages/sklearn/utils/validation.py:2749: UserWarning: X does not have valid feature names, but LGBMClassifier was fitted with feature names\n",
      "  warnings.warn(\n"
     ]
    },
    {
     "name": "stdout",
     "output_type": "stream",
     "text": [
      "[CV] END colsample_bytree=0.8, learning_rate=0.05, max_depth=-1, min_child_samples=30, n_estimators=500, num_leaves=40, reg_alpha=1.0, reg_lambda=1.0, subsample=1.0; total time=13.8min\n",
      "[LightGBM] [Info] Auto-choosing col-wise multi-threading, the overhead of testing was 0.885525 seconds.\n",
      "You can set `force_col_wise=true` to remove the overhead.\n",
      "[LightGBM] [Info] Total Bins 97920\n",
      "[LightGBM] [Info] Number of data points in the train set: 85332, number of used features: 384\n",
      "[LightGBM] [Info] Start training from score -1.097277\n",
      "[LightGBM] [Info] Start training from score -1.101041\n",
      "[LightGBM] [Info] Start training from score -1.097523\n"
     ]
    },
    {
     "name": "stderr",
     "output_type": "stream",
     "text": [
      "/home/juancho_col/Documents/Projects/Sentiment Analysis v2/.venv/lib/python3.13/site-packages/sklearn/utils/validation.py:2749: UserWarning: X does not have valid feature names, but LGBMClassifier was fitted with feature names\n",
      "  warnings.warn(\n"
     ]
    },
    {
     "name": "stdout",
     "output_type": "stream",
     "text": [
      "[CV] END colsample_bytree=0.8, learning_rate=0.01, max_depth=10, min_child_samples=20, n_estimators=1500, num_leaves=31, reg_alpha=1.0, reg_lambda=1.0, subsample=1.0; total time=29.7min\n",
      "[LightGBM] [Info] Auto-choosing col-wise multi-threading, the overhead of testing was 0.950243 seconds.\n",
      "You can set `force_col_wise=true` to remove the overhead.\n",
      "[LightGBM] [Info] Total Bins 97920\n",
      "[LightGBM] [Info] Number of data points in the train set: 85332, number of used features: 384\n",
      "[LightGBM] [Info] Start training from score -1.097312\n",
      "[LightGBM] [Info] Start training from score -1.101006\n",
      "[LightGBM] [Info] Start training from score -1.097523\n"
     ]
    },
    {
     "name": "stderr",
     "output_type": "stream",
     "text": [
      "/home/juancho_col/Documents/Projects/Sentiment Analysis v2/.venv/lib/python3.13/site-packages/sklearn/utils/validation.py:2749: UserWarning: X does not have valid feature names, but LGBMClassifier was fitted with feature names\n",
      "  warnings.warn(\n"
     ]
    },
    {
     "name": "stdout",
     "output_type": "stream",
     "text": [
      "[CV] END colsample_bytree=0.8, learning_rate=0.01, max_depth=10, min_child_samples=20, n_estimators=1500, num_leaves=31, reg_alpha=1.0, reg_lambda=1.0, subsample=1.0; total time=29.0min\n",
      "[LightGBM] [Info] Auto-choosing col-wise multi-threading, the overhead of testing was 0.762467 seconds.\n",
      "You can set `force_col_wise=true` to remove the overhead.\n",
      "[LightGBM] [Info] Total Bins 97920\n",
      "[LightGBM] [Info] Number of data points in the train set: 85332, number of used features: 384\n",
      "[LightGBM] [Info] Start training from score -1.097312\n",
      "[LightGBM] [Info] Start training from score -1.101041\n",
      "[LightGBM] [Info] Start training from score -1.097488\n"
     ]
    },
    {
     "name": "stderr",
     "output_type": "stream",
     "text": [
      "/home/juancho_col/Documents/Projects/Sentiment Analysis v2/.venv/lib/python3.13/site-packages/sklearn/utils/validation.py:2749: UserWarning: X does not have valid feature names, but LGBMClassifier was fitted with feature names\n",
      "  warnings.warn(\n"
     ]
    },
    {
     "name": "stdout",
     "output_type": "stream",
     "text": [
      "[CV] END colsample_bytree=0.9, learning_rate=0.1, max_depth=-1, min_child_samples=30, n_estimators=500, num_leaves=40, reg_alpha=1.0, reg_lambda=0.1, subsample=0.9; total time= 9.7min\n",
      "[LightGBM] [Info] Auto-choosing col-wise multi-threading, the overhead of testing was 0.796397 seconds.\n",
      "You can set `force_col_wise=true` to remove the overhead.\n",
      "[LightGBM] [Info] Total Bins 97920\n",
      "[LightGBM] [Info] Number of data points in the train set: 85332, number of used features: 384\n",
      "[LightGBM] [Info] Start training from score -1.097277\n",
      "[LightGBM] [Info] Start training from score -1.101041\n",
      "[LightGBM] [Info] Start training from score -1.097523\n"
     ]
    },
    {
     "name": "stderr",
     "output_type": "stream",
     "text": [
      "/home/juancho_col/Documents/Projects/Sentiment Analysis v2/.venv/lib/python3.13/site-packages/sklearn/utils/validation.py:2749: UserWarning: X does not have valid feature names, but LGBMClassifier was fitted with feature names\n",
      "  warnings.warn(\n"
     ]
    },
    {
     "name": "stdout",
     "output_type": "stream",
     "text": [
      "[CV] END colsample_bytree=0.8, learning_rate=0.01, max_depth=10, min_child_samples=20, n_estimators=1500, num_leaves=31, reg_alpha=1.0, reg_lambda=1.0, subsample=1.0; total time=28.1min\n",
      "[LightGBM] [Info] Auto-choosing col-wise multi-threading, the overhead of testing was 0.806061 seconds.\n",
      "You can set `force_col_wise=true` to remove the overhead.\n",
      "[LightGBM] [Info] Total Bins 97920\n",
      "[LightGBM] [Info] Number of data points in the train set: 85332, number of used features: 384\n",
      "[LightGBM] [Info] Start training from score -1.097312\n",
      "[LightGBM] [Info] Start training from score -1.101006\n",
      "[LightGBM] [Info] Start training from score -1.097523\n"
     ]
    },
    {
     "name": "stderr",
     "output_type": "stream",
     "text": [
      "/home/juancho_col/Documents/Projects/Sentiment Analysis v2/.venv/lib/python3.13/site-packages/sklearn/utils/validation.py:2749: UserWarning: X does not have valid feature names, but LGBMClassifier was fitted with feature names\n",
      "  warnings.warn(\n"
     ]
    },
    {
     "name": "stdout",
     "output_type": "stream",
     "text": [
      "[CV] END colsample_bytree=0.9, learning_rate=0.1, max_depth=-1, min_child_samples=30, n_estimators=500, num_leaves=40, reg_alpha=1.0, reg_lambda=0.1, subsample=0.9; total time= 9.8min\n",
      "[LightGBM] [Info] Auto-choosing col-wise multi-threading, the overhead of testing was 0.786912 seconds.\n",
      "You can set `force_col_wise=true` to remove the overhead.\n",
      "[LightGBM] [Info] Total Bins 97920\n",
      "[LightGBM] [Info] Number of data points in the train set: 85332, number of used features: 384\n",
      "[LightGBM] [Info] Start training from score -1.097312\n",
      "[LightGBM] [Info] Start training from score -1.101041\n",
      "[LightGBM] [Info] Start training from score -1.097488\n"
     ]
    },
    {
     "name": "stderr",
     "output_type": "stream",
     "text": [
      "/home/juancho_col/Documents/Projects/Sentiment Analysis v2/.venv/lib/python3.13/site-packages/sklearn/utils/validation.py:2749: UserWarning: X does not have valid feature names, but LGBMClassifier was fitted with feature names\n",
      "  warnings.warn(\n"
     ]
    },
    {
     "name": "stdout",
     "output_type": "stream",
     "text": [
      "[CV] END colsample_bytree=0.9, learning_rate=0.1, max_depth=-1, min_child_samples=30, n_estimators=500, num_leaves=40, reg_alpha=1.0, reg_lambda=0.1, subsample=0.9; total time= 9.7min\n",
      "[LightGBM] [Info] Auto-choosing col-wise multi-threading, the overhead of testing was 0.758034 seconds.\n",
      "You can set `force_col_wise=true` to remove the overhead.\n",
      "[LightGBM] [Info] Total Bins 97920\n",
      "[LightGBM] [Info] Number of data points in the train set: 85332, number of used features: 384\n",
      "[LightGBM] [Info] Start training from score -1.097277\n",
      "[LightGBM] [Info] Start training from score -1.101041\n",
      "[LightGBM] [Info] Start training from score -1.097523\n"
     ]
    },
    {
     "name": "stderr",
     "output_type": "stream",
     "text": [
      "/home/juancho_col/Documents/Projects/Sentiment Analysis v2/.venv/lib/python3.13/site-packages/sklearn/utils/validation.py:2749: UserWarning: X does not have valid feature names, but LGBMClassifier was fitted with feature names\n",
      "  warnings.warn(\n"
     ]
    },
    {
     "name": "stdout",
     "output_type": "stream",
     "text": [
      "[CV] END colsample_bytree=0.8, learning_rate=0.05, max_depth=-1, min_child_samples=30, n_estimators=1500, num_leaves=40, reg_alpha=1.0, reg_lambda=0.01, subsample=0.8; total time=24.7min\n",
      "[LightGBM] [Info] Auto-choosing col-wise multi-threading, the overhead of testing was 0.791443 seconds.\n",
      "You can set `force_col_wise=true` to remove the overhead.\n",
      "[LightGBM] [Info] Total Bins 97920\n",
      "[LightGBM] [Info] Number of data points in the train set: 85332, number of used features: 384\n",
      "[LightGBM] [Info] Start training from score -1.097312\n",
      "[LightGBM] [Info] Start training from score -1.101006\n",
      "[LightGBM] [Info] Start training from score -1.097523\n"
     ]
    },
    {
     "name": "stderr",
     "output_type": "stream",
     "text": [
      "/home/juancho_col/Documents/Projects/Sentiment Analysis v2/.venv/lib/python3.13/site-packages/sklearn/utils/validation.py:2749: UserWarning: X does not have valid feature names, but LGBMClassifier was fitted with feature names\n",
      "  warnings.warn(\n"
     ]
    },
    {
     "name": "stdout",
     "output_type": "stream",
     "text": [
      "[CV] END colsample_bytree=0.8, learning_rate=0.05, max_depth=-1, min_child_samples=30, n_estimators=1500, num_leaves=40, reg_alpha=1.0, reg_lambda=0.01, subsample=0.8; total time=25.8min\n"
     ]
    },
    {
     "name": "stderr",
     "output_type": "stream",
     "text": [
      "/home/juancho_col/Documents/Projects/Sentiment Analysis v2/.venv/lib/python3.13/site-packages/sklearn/utils/validation.py:2749: UserWarning: X does not have valid feature names, but LGBMClassifier was fitted with feature names\n",
      "  warnings.warn(\n"
     ]
    },
    {
     "name": "stdout",
     "output_type": "stream",
     "text": [
      "[CV] END colsample_bytree=0.8, learning_rate=0.05, max_depth=-1, min_child_samples=30, n_estimators=1500, num_leaves=40, reg_alpha=1.0, reg_lambda=0.01, subsample=0.8; total time=18.3min\n",
      "[LightGBM] [Info] Auto-choosing col-wise multi-threading, the overhead of testing was 0.838417 seconds.\n",
      "You can set `force_col_wise=true` to remove the overhead.\n",
      "[LightGBM] [Info] Total Bins 97920\n",
      "[LightGBM] [Info] Number of data points in the train set: 127998, number of used features: 384\n",
      "[LightGBM] [Info] Start training from score -1.097301\n",
      "[LightGBM] [Info] Start training from score -1.101029\n",
      "[LightGBM] [Info] Start training from score -1.097511\n"
     ]
    }
   ],
   "source": [
    "# Fit the model\n",
    "with jb.parallel_backend('threading'):\n",
    "    random_search.fit(\n",
    "        emb_train,\n",
    "        y_train\n",
    "    )"
   ]
  },
  {
   "cell_type": "code",
   "execution_count": 52,
   "id": "4c86d989",
   "metadata": {},
   "outputs": [
    {
     "name": "stderr",
     "output_type": "stream",
     "text": [
      "/home/juancho_col/Documents/Projects/Sentiment Analysis v2/.venv/lib/python3.13/site-packages/sklearn/utils/validation.py:2749: UserWarning: X does not have valid feature names, but LGBMClassifier was fitted with feature names\n",
      "  warnings.warn(\n"
     ]
    },
    {
     "name": "stdout",
     "output_type": "stream",
     "text": [
      "Accuracy: 74.98%\n",
      "Precision: 74.88%\n",
      "Recall: 74.98%\n",
      "F1 Score: 0.7487\n",
      "Confusion matrix:\n",
      " [[ 9360  2321  1705]\n",
      " [ 2314  9487  1507]\n",
      " [ 1150  1009 11147]]\n"
     ]
    },
    {
     "name": "stderr",
     "output_type": "stream",
     "text": [
      "/home/juancho_col/Documents/Projects/Sentiment Analysis v2/.venv/lib/python3.13/site-packages/sklearn/utils/validation.py:2749: UserWarning: X does not have valid feature names, but LGBMClassifier was fitted with feature names\n",
      "  warnings.warn(\n"
     ]
    },
    {
     "name": "stdout",
     "output_type": "stream",
     "text": [
      "Accuracy: 74.20%\n",
      "Precision: 74.07%\n",
      "Recall: 74.20%\n",
      "F1 Score: 0.7409\n",
      "Confusion matrix:\n",
      " [[7274 1957 1327]\n",
      " [1939 7626 1230]\n",
      " [ 971  833 8843]]\n"
     ]
    }
   ],
   "source": [
    "# Predictions and metrics\n",
    "best_lgb = random_search.best_estimator_\n",
    "\n",
    "pred_test = best_lgb.predict(emb_test)\n",
    "metrics_test = model_metrics(y_test,pred_test)\n",
    "\n",
    "pred_val = best_lgb.predict(emb_val)\n",
    "metrics_val = model_metrics(y_val,pred_val)"
   ]
  },
  {
   "cell_type": "code",
   "execution_count": 57,
   "id": "7f1343ec",
   "metadata": {},
   "outputs": [
    {
     "data": {
      "text/plain": [
       "['/home/juancho_col/Documents/Projects/Sentiment Analysis v2/src/models/predictor/lgbm_sentiment_predictor.joblib']"
      ]
     },
     "execution_count": 57,
     "metadata": {},
     "output_type": "execute_result"
    }
   ],
   "source": [
    "# Export model\n",
    "model_path = \"/home/juancho_col/Documents/Projects/Sentiment Analysis v2/src/models/predictor/lgbm_sentiment_predictor.joblib\"\n",
    "\n",
    "# Save\n",
    "jb.dump(best_lgb,model_path)"
   ]
  }
 ],
 "metadata": {
  "kernelspec": {
   "display_name": "Python (sentiment-analysis-v2)",
   "language": "python",
   "name": "sentiment-analysis-v2"
  },
  "language_info": {
   "codemirror_mode": {
    "name": "ipython",
    "version": 3
   },
   "file_extension": ".py",
   "mimetype": "text/x-python",
   "name": "python",
   "nbconvert_exporter": "python",
   "pygments_lexer": "ipython3",
   "version": "3.13.7"
  }
 },
 "nbformat": 4,
 "nbformat_minor": 5
}
