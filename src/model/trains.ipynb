{
 "cells": [
  {
   "cell_type": "code",
   "execution_count": null,
   "id": "18deb4c5",
   "metadata": {},
   "outputs": [],
   "source": [
    "import sys\n",
    "import os\n",
    "import numpy as np\n",
    "import pandas as pd\n",
    "from pathlib import Path"
   ]
  },
  {
   "cell_type": "code",
   "execution_count": null,
   "id": "459a5e07",
   "metadata": {},
   "outputs": [],
   "source": [
    "current_dir = os.getcwd()\n",
    "project_root = current_dir\n",
    "while not os.path.isdir(os.path.join(project_root, \"src\")):\n",
    "    parent_dir = os.path.dirname(project_root)\n",
    "    if parent_dir == project_root:\n",
    "        raise FileNotFoundError(\n",
    "            \"Could not find the 'src' directory. Ensure this script is within the project structure.\"\n",
    "        )\n",
    "    project_root = parent_dir\n",
    "\n",
    "if project_root not in sys.path:\n",
    "    sys.path.insert(0, project_root)\n",
    "\n",
    "project_root = Path(project_root)"
   ]
  },
  {
   "cell_type": "code",
   "execution_count": null,
   "id": "8f7ce02b",
   "metadata": {},
   "outputs": [],
   "source": [
    "# Define paths relative to the project root for maximum robustness.\n",
    "PROCESSED_DATA_DIR = project_root / \"data\" / \"processed\"\n",
    "TRAIN_CLEAN_PATH = PROCESSED_DATA_DIR / \"clean_train_tweets.parquet\"\n",
    "TEST_CLEAN_PATH = PROCESSED_DATA_DIR / \"clean_test_tweets.parquet\"\n",
    "VAL_CLEAN_PATH = PROCESSED_DATA_DIR / \"clean_val_tweets.parquet\""
   ]
  },
  {
   "cell_type": "code",
   "execution_count": null,
   "id": "86ee5d14",
   "metadata": {},
   "outputs": [],
   "source": [
    "# from src.models.embeddings.emb_data import get_data_embeddings (is already used)\n",
    "from src.models.utils import model_metrics\n",
    "from src.model.model import create_lgbm_model, create_hyperparameter_search\n",
    "from src.models.embeddings.emb_data import get_data_embeddings\n",
    "\n",
    "import pandas as pd\n",
    "import joblib as jb"
   ]
  },
  {
   "cell_type": "code",
   "execution_count": null,
   "id": "fc651f39",
   "metadata": {},
   "outputs": [],
   "source": [
    "train_labels = pd.read_parquet(TRAIN_CLEAN_PATH)\n",
    "test_labels = pd.read_parquet(TEST_CLEAN_PATH)\n",
    "val_labels = pd.read_parquet(VAL_CLEAN_PATH)"
   ]
  },
  {
   "cell_type": "code",
   "execution_count": null,
   "id": "3c9ccaab",
   "metadata": {},
   "outputs": [],
   "source": [
    "# Load labels\n",
    "y_train = train_labels['Label'].values\n",
    "y_test = test_labels['Label'].values\n",
    "y_val = val_labels['Label'].values"
   ]
  },
  {
   "cell_type": "code",
   "execution_count": null,
   "id": "74b7a8ef",
   "metadata": {},
   "outputs": [],
   "source": [
    "### Load embeddings ###\n",
    "emb_train, emb_test, emb_val = get_data_embeddings()"
   ]
  },
  {
   "cell_type": "code",
   "execution_count": null,
   "id": "d158589a",
   "metadata": {},
   "outputs": [],
   "source": [
    "# Create model\n",
    "lbgm = create_lgbm_model()\n",
    "random_search = create_hyperparameter_search(estimator=lbgm, n_iter=15)"
   ]
  },
  {
   "cell_type": "code",
   "execution_count": null,
   "id": "689b5c0a",
   "metadata": {},
   "outputs": [],
   "source": [
    "# Fit the model\n",
    "with jb.parallel_backend('threading'):\n",
    "    random_search.fit(\n",
    "        emb_train,\n",
    "        y_train\n",
    "    )"
   ]
  },
  {
   "cell_type": "code",
   "execution_count": null,
   "id": "4c86d989",
   "metadata": {},
   "outputs": [],
   "source": [
    "# Predictions and metrics\n",
    "best_lgb = random_search.best_estimator_\n",
    "\n",
    "pred_test = best_lgb.predict(emb_test)\n",
    "metrics_test = model_metrics(y_test,pred_test)\n",
    "\n",
    "pred_val = best_lgb.predict(emb_val)\n",
    "metrics_val = model_metrics(y_val,pred_val)"
   ]
  },
  {
   "cell_type": "code",
   "execution_count": null,
   "id": "7f1343ec",
   "metadata": {},
   "outputs": [],
   "source": [
    "# Export model\n",
    "model_path = \"/home/juancho_col/Documents/Projects/Sentiment Analysis v2/src/models/predictor/lgbm_sentiment_predictor.joblib\"\n",
    "\n",
    "# Save\n",
    "jb.dump(best_lgb,model_path)"
   ]
  }
 ],
 "metadata": {
  "kernelspec": {
   "display_name": "Python (sentiment-analysis-v2)",
   "language": "python",
   "name": "sentiment-analysis-v2"
  },
  "language_info": {
   "codemirror_mode": {
    "name": "ipython",
    "version": 3
   },
   "file_extension": ".py",
   "mimetype": "text/x-python",
   "name": "python",
   "nbconvert_exporter": "python",
   "pygments_lexer": "ipython3",
   "version": "3.13.7"
  }
 },
 "nbformat": 4,
 "nbformat_minor": 5
}
